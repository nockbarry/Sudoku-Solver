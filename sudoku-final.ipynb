{
 "cells": [
  {
   "cell_type": "code",
   "execution_count": 1,
   "metadata": {},
   "outputs": [],
   "source": [
    "import copy\n",
    "import numpy as np\n",
    "import tensorflow as tf\n",
    "from tensorflow import keras\n",
    "from tensorflow.keras import layers\n",
    "import pandas as pd\n",
    "import matplotlib.pyplot as plt\n",
    "import keras\n",
    "from keras.layers import Activation\n",
    "from keras.layers import Conv2D, BatchNormalization, Dense, Flatten, Reshape"
   ]
  },
  {
   "cell_type": "markdown",
   "metadata": {},
   "source": [
    "## Utility Functions"
   ]
  },
  {
   "cell_type": "code",
   "execution_count": 26,
   "metadata": {},
   "outputs": [],
   "source": [
    "def norm(x):\n",
    "    #to normalize sudoku data\n",
    "    return (x/9)-.5\n",
    "\n",
    "def denorm(x):\n",
    "    \n",
    "    return (x+.5)*9"
   ]
  },
  {
   "cell_type": "code",
   "execution_count": 172,
   "metadata": {},
   "outputs": [],
   "source": [
    "def sort_data(file): \n",
    "\n",
    "    data = pd.read_csv(file) #read into data frame\n",
    "    inp_raw = data['quizzes'] #sort\n",
    "    out_raw = data['solutions']\n",
    "    inp_train = []#allocate memory\n",
    "    out_train = []\n",
    "    inp_test = []\n",
    "    out_test = []\n",
    "    count = 0\n",
    "    \n",
    "    for i in inp_raw: \n",
    "        if count < 1000: #exclude 1000 boards for future testing\n",
    "            x = np.array([int(j) for j in i]).reshape((9,9,1))\n",
    "            inp_test.append(x) #covert into array\n",
    "        else:\n",
    "            x = np.array([int(j) for j in i]).reshape((9,9,1))\n",
    "            inp_train.append(x)\n",
    "        count += 1\n",
    "        \n",
    "    inp_test = np.array(inp_test)    \n",
    "    inp_test = norm(inp_test)\n",
    "    inp_train = np.array(inp_train)  \n",
    "    inp_train = norm(inp_train) \n",
    "    \n",
    "    count = 0\n",
    "    \n",
    "    for i in out_raw:\n",
    "        if count < 1000:\n",
    "            y = np.array([int(j) for j in i]).reshape((81,1)) - 1\n",
    "            out_test.append(y)\n",
    "        else:\n",
    "            y = np.array([int(j) for j in i]).reshape((81,1)) - 1\n",
    "            out_train.append(y)  \n",
    "        count += 1\n",
    "    \n",
    "    out_train = np.array(out_train)\n",
    "    out_test = np.array(out_test)\n",
    "    \n",
    "    del(inp_raw)\n",
    "    del(out_raw)    \n",
    "\n",
    "    \n",
    "    return inp_train, inp_test, out_train, out_test"
   ]
  },
  {
   "cell_type": "code",
   "execution_count": 173,
   "metadata": {},
   "outputs": [],
   "source": [
    "x_train, x_test, y_train, y_test = sort_data('sudoku.csv')"
   ]
  },
  {
   "cell_type": "markdown",
   "metadata": {},
   "source": [
    "## Training"
   ]
  },
  {
   "cell_type": "code",
   "execution_count": 3,
   "metadata": {},
   "outputs": [
    {
     "name": "stdout",
     "output_type": "stream",
     "text": [
      "Epoch 1/10\n",
      "12375/12375 [==============================] - 603s 49ms/step - loss: 0.4820 - accuracy: 0.7844 - val_loss: 0.3742 - val_accuracy: 0.8183\n",
      "Epoch 2/10\n",
      "12375/12375 [==============================] - 602s 49ms/step - loss: 0.3652 - accuracy: 0.8238 - val_loss: 0.3636 - val_accuracy: 0.8244\n",
      "Epoch 3/10\n",
      "12375/12375 [==============================] - 618s 50ms/step - loss: 0.3547 - accuracy: 0.8309 - val_loss: 0.3611 - val_accuracy: 0.8264\n",
      "Epoch 4/10\n",
      "12375/12375 [==============================] - 615s 50ms/step - loss: 0.3485 - accuracy: 0.8351 - val_loss: 0.3601 - val_accuracy: 0.8273\n",
      "Epoch 5/10\n",
      "12375/12375 [==============================] - 618s 50ms/step - loss: 0.3444 - accuracy: 0.8380 - val_loss: 0.3599 - val_accuracy: 0.8276\n",
      "Epoch 6/10\n",
      "12375/12375 [==============================] - 621s 50ms/step - loss: 0.3414 - accuracy: 0.8400 - val_loss: 0.3601 - val_accuracy: 0.8276\n",
      "Epoch 7/10\n",
      "12375/12375 [==============================] - 616s 50ms/step - loss: 0.3391 - accuracy: 0.8415 - val_loss: 0.3604 - val_accuracy: 0.8276\n",
      "Epoch 8/10\n",
      "12375/12375 [==============================] - 619s 50ms/step - loss: 0.3373 - accuracy: 0.8428 - val_loss: 0.3600 - val_accuracy: 0.8279\n",
      "Epoch 9/10\n",
      "12375/12375 [==============================] - 625s 51ms/step - loss: 0.3358 - accuracy: 0.8437 - val_loss: 0.3611 - val_accuracy: 0.8278\n",
      "Epoch 10/10\n",
      "12375/12375 [==============================] - 617s 50ms/step - loss: 0.3345 - accuracy: 0.8446 - val_loss: 0.3611 - val_accuracy: 0.8277\n",
      "dict_keys(['loss', 'accuracy', 'val_loss', 'val_accuracy'])\n",
      "Wall time: 1h 43min 17s\n"
     ]
    }
   ],
   "source": [
    "%%time\n",
    "#x_train, x_test, y_train, y_test = get_data('sudoku.csv')\n",
    "# Dense Model\n",
    "model = keras.models.Sequential()\n",
    "#add the layers to the model\n",
    "model.add(Conv2D(64, kernel_size=(3,3), activation='relu', padding='same', input_shape=(9,9,1)))\n",
    "model.add(BatchNormalization())\n",
    "model.add(Dense(128, activation='relu'))\n",
    "model.add(BatchNormalization())\n",
    "model.add(Dense(128, activation='relu'))\n",
    "\n",
    "model.add(Flatten())\n",
    "model.add(Dense(81*9))\n",
    "model.add(Reshape((-1, 9)))\n",
    "model.add(Activation('softmax'))\n",
    "#optimize, compile, and train model\n",
    "adam = keras.optimizers.Adam(lr=.001)\n",
    "model.compile(loss='sparse_categorical_crossentropy', optimizer=adam, metrics =['accuracy'])\n",
    "history = model.fit(x_train, y_train, batch_size=64, epochs=10, validation_split=0.2)\n",
    "\n",
    "print(history.history.keys())\n"
   ]
  },
  {
   "cell_type": "code",
   "execution_count": 4,
   "metadata": {},
   "outputs": [
    {
     "name": "stdout",
     "output_type": "stream",
     "text": [
      "WARNING:tensorflow:From C:\\Users\\Nick\\anaconda3\\lib\\site-packages\\tensorflow\\python\\training\\tracking\\tracking.py:111: Model.state_updates (from tensorflow.python.keras.engine.training) is deprecated and will be removed in a future version.\n",
      "Instructions for updating:\n",
      "This property should not be used in TensorFlow 2.0, as updates are applied automatically.\n",
      "WARNING:tensorflow:From C:\\Users\\Nick\\anaconda3\\lib\\site-packages\\tensorflow\\python\\training\\tracking\\tracking.py:111: Layer.updates (from tensorflow.python.keras.engine.base_layer) is deprecated and will be removed in a future version.\n",
      "Instructions for updating:\n",
      "This property should not be used in TensorFlow 2.0, as updates are applied automatically.\n",
      "INFO:tensorflow:Assets written to: model/dense.model\\assets\n"
     ]
    }
   ],
   "source": [
    "model.save('model/dense.model')"
   ]
  },
  {
   "cell_type": "code",
   "execution_count": 6,
   "metadata": {},
   "outputs": [
    {
     "data": {
      "text/plain": [
       "<tensorflow.python.keras.engine.sequential.Sequential at 0x21081aa4b88>"
      ]
     },
     "execution_count": 6,
     "metadata": {},
     "output_type": "execute_result"
    }
   ],
   "source": [
    "keras.models.load_model('model/dense.model')"
   ]
  },
  {
   "cell_type": "code",
   "execution_count": 7,
   "metadata": {},
   "outputs": [
    {
     "data": {
      "image/png": "[encoded data removed]",
      "text/plain": [
       "<Figure size 432x288 with 1 Axes>"
      ]
     },
     "metadata": {
      "needs_background": "light"
     },
     "output_type": "display_data"
    },
    {
     "data": {
      "image/png": "[encoded data removed]",
      "text/plain": [
       "<Figure size 432x288 with 1 Axes>"
      ]
     },
     "metadata": {
      "needs_background": "light"
     },
     "output_type": "display_data"
    }
   ],
   "source": [
    "#plotting training metrics\n",
    "plt.plot(history.history['loss'], label='SCC (training data)')\n",
    "plt.plot(history.history['val_loss'], label='SCC (validation data)')\n",
    "plt.legend(['train', 'validation'], loc='upper left')\n",
    "plt.title('Sparse Categorical Crossentropy')\n",
    "plt.ylabel('SCC value')\n",
    "plt.xlabel('No. epoch')\n",
    "plt.legend(loc=\"upper left\")\n",
    "plt.show()\n",
    "plt.plot(history.history['accuracy'], label='Accuracy (training data)')\n",
    "plt.plot(history.history['val_accuracy'], label='Accuracy (validation data)')\n",
    "plt.legend(['train', 'validation'], loc='upper left')\n",
    "plt.title('Accuracy')\n",
    "plt.xlabel('No. epoch')\n",
    "plt.legend(loc=\"upper left\")\n",
    "plt.show()\n"
   ]
  },
  {
   "cell_type": "code",
   "execution_count": null,
   "metadata": {},
   "outputs": [],
   "source": [
    "#Convolutional Model\n",
    "\n",
    "#model = keras.models.Sequential()\n",
    "\n",
    "#model.add(Conv2D(64, kernel_size=(3,3), activation='relu', padding='same', input_shape=(9,9,1)))\n",
    "#model.add(BatchNormalization())\n",
    "#model.add(Conv2D(64, kernel_size=(3,3), activation='relu', padding='same'))\n",
    "#model.add(BatchNormalization())\n",
    "#model.add(Conv2D(128, kernel_size=(1,1), activation='relu', padding='same'))\n",
    "\n",
    "#model.add(Flatten())\n",
    "#model.add(Dense(81*9))\n",
    "#model.add(Reshape((-1, 9)))\n",
    "#model.add(Activation('softmax'))"
   ]
  },
  {
   "cell_type": "markdown",
   "metadata": {},
   "source": [
    "## Solving"
   ]
  },
  {
   "cell_type": "code",
   "execution_count": 154,
   "metadata": {},
   "outputs": [],
   "source": [
    "def first_solve(board):\n",
    "    #solves based only on initial board state\n",
    "    inp = copy.copy(board)\n",
    "    out = model.predict(inp.reshape((1,9,9,1)))  \n",
    "    out = out.squeeze()\n",
    "    pred = np.argmax(out, axis=1).reshape((9,9))+1 \n",
    "    return pred"
   ]
  },
  {
   "cell_type": "code",
   "execution_count": 270,
   "metadata": {},
   "outputs": [],
   "source": [
    "def iter_solve(board):\n",
    "    #Solves by using the highest probabilitty prediction for any cell\n",
    "    #inserts that cell and runs again.\n",
    "    \n",
    "    inp = copy.copy(board)\n",
    "    nonzeros = 0\n",
    "    while nonzeros < 81:\n",
    "\n",
    "        nextguess = model.predict(inp.reshape((1,9,9,1)))  \n",
    "        nextguess = nextguess.squeeze()\n",
    "        pred = np.argmax(nextguess, axis=1).reshape((9,9))+1 #predicted board state\n",
    "        conf = np.around(np.max(nextguess, axis=1).reshape((9,9)), 2) #confindence in cell values\n",
    "        inp = denorm(inp).reshape((9,9))\n",
    "        nonzeros = np.count_nonzero(inp)\n",
    "        unsolved = (inp==0) #how many places left     \n",
    "        conf = conf*unsolved #probabilty of unsolved cells\n",
    "        index = np.argmax(conf) #index of cell with highest confindn\n",
    "        row = (index//9)\n",
    "        col = (index%9) #index on grid\n",
    "        inp[row][col] = pred[row][col] #insert best guess for this iter\n",
    "        inp = norm(inp)\n",
    "    \n",
    "    return pred"
   ]
  },
  {
   "cell_type": "markdown",
   "metadata": {},
   "source": [
    "## Testing"
   ]
  },
  {
   "cell_type": "code",
   "execution_count": 272,
   "metadata": {},
   "outputs": [],
   "source": [
    "def accuracy(inp, out):\n",
    "    \n",
    "    correct = 0\n",
    "    false = 0\n",
    "    first_error = []\n",
    "    first_correct = 0\n",
    "    \n",
    "    count = 0\n",
    "        \n",
    "    for i, inp in enumerate(inp): #loop through input range\n",
    "        pred = iter_solve(inp) \n",
    "        true = out[i].reshape((9,9))+1\n",
    "        first_pred = first_solve(inp)\n",
    "        \n",
    "        if(abs(true - pred).sum()==0):# comapre truth and iterated prediciton\n",
    "            correct += 1\n",
    "        else:\n",
    "            false += 1\n",
    "            \n",
    "        first_approx = np.argmax(model.predict(inp.reshape((1,9,9,1))).squeeze(), axis=1).reshape(81,1) \n",
    "        count = 0 #compare first approximation and truth\n",
    "        for j in out[i]:\n",
    "            error = out[i][j] - first_approx[j]\n",
    "            if error != 0:\n",
    "                count +=1\n",
    "                first_error.append(count)\n",
    "        #print('First pass errors on board ',i,'is',count)\n",
    "        if count == 0:\n",
    "            first_correct += 1\n",
    "        \n",
    "    print('Average first approx errors per board are ', np.mean(first_error))\n",
    "    print('Number of first approx correct games is ', first_correct)\n",
    "    print('Total false boards after iterative solving is ', false) \n",
    "    print('Total correct boards after iterative solving is ',correct)\n"
   ]
  },
  {
   "cell_type": "code",
   "execution_count": 273,
   "metadata": {
    "scrolled": true
   },
   "outputs": [
    {
     "name": "stdout",
     "output_type": "stream",
     "text": [
      "Average first approx errors per board are  12.875\n",
      "Number of first approx correct games is  1\n",
      "Total false boards after iterative solving is  0\n",
      "Total correct boards after iterative solving is  5\n",
      "Wall time: 5.66 s\n"
     ]
    }
   ],
   "source": [
    "%%time\n",
    "accuracy(x_test[:5], y_test[:5])\n"
   ]
  },
  {
   "cell_type": "code",
   "execution_count": 262,
   "metadata": {},
   "outputs": [
    {
     "name": "stdout",
     "output_type": "stream",
     "text": [
      "[[8 6 4 3 7 1 2 5 9]\n",
      " [3 2 5 8 4 9 7 6 1]\n",
      " [9 7 1 2 6 5 8 4 3]\n",
      " [4 3 6 1 9 2 5 8 7]\n",
      " [1 9 8 6 5 7 4 3 2]\n",
      " [2 5 7 4 8 3 9 1 6]\n",
      " [6 8 9 7 3 4 1 2 5]\n",
      " [7 1 3 5 2 8 6 9 4]\n",
      " [5 4 2 9 1 6 3 7 8]]\n"
     ]
    },
    {
     "data": {
      "text/plain": [
       "array([[8, 6, 4, 3, 7, 1, 2, 5, 9],\n",
       "       [3, 2, 5, 8, 4, 9, 7, 6, 1],\n",
       "       [9, 7, 1, 2, 6, 5, 8, 4, 3],\n",
       "       [4, 3, 6, 1, 9, 2, 5, 8, 7],\n",
       "       [1, 9, 8, 6, 5, 7, 4, 3, 2],\n",
       "       [2, 5, 7, 4, 8, 3, 9, 1, 6],\n",
       "       [6, 8, 9, 7, 3, 4, 1, 2, 5],\n",
       "       [7, 1, 3, 5, 2, 8, 6, 9, 4],\n",
       "       [5, 4, 2, 9, 1, 6, 3, 7, 8]])"
      ]
     },
     "execution_count": 262,
     "metadata": {},
     "output_type": "execute_result"
    }
   ],
   "source": [
    "print(iter_solve(x_test[0]).reshape(9,9))\n",
    "y_test[0].reshape(9,9)+1"
   ]
  },
  {
   "cell_type": "code",
   "execution_count": 226,
   "metadata": {},
   "outputs": [
    {
     "data": {
      "text/plain": [
       "array([-0.5])"
      ]
     },
     "execution_count": 226,
     "metadata": {},
     "output_type": "execute_result"
    }
   ],
   "source": [
    "b = np.concatenate(x_test[0],axis=0)\n",
    "b[1]"
   ]
  },
  {
   "cell_type": "code",
   "execution_count": 211,
   "metadata": {},
   "outputs": [],
   "source": [
    "def string_to_board(state):\n",
    "    #for testing\n",
    "    state = state.replace('\\n', '')\n",
    "    state = state.replace(' ', '')\n",
    "    state = np.array([int(j) for j in state]).reshape((9,9,1))\n",
    "    state = norm(state)\n",
    "    return state\n",
    "\n",
    "def solve_board(state):\n",
    "    #for testing individual boards\n",
    "    print('Complete Board Guess on first pass')\n",
    "    state = string_to_board(state)\n",
    "    out = model.predict(state.reshape((1,9,9,1)))  \n",
    "    out = out.squeeze()\n",
    "    pred = np.argmax(out, axis=1).reshape((9,9))+1 \n",
    "    print(pred)\n",
    "    state = iter_solve(state)\n",
    "    print('Best after iterated solving')\n",
    "    print(state)\n",
    "    return state\n"
   ]
  },
  {
   "cell_type": "code",
   "execution_count": 212,
   "metadata": {},
   "outputs": [
    {
     "name": "stdout",
     "output_type": "stream",
     "text": [
      "Complete Board Guess on first pass\n",
      "[[4 8 6 9 3 2 5 9 1]\n",
      " [7 1 3 1 8 6 5 9 2]\n",
      " [5 6 2 1 1 7 8 3 4]\n",
      " [2 5 8 4 6 1 9 7 3]\n",
      " [6 3 2 7 5 9 1 2 8]\n",
      " [9 4 7 2 6 8 1 5 3]\n",
      " [1 2 5 6 7 3 8 8 9]\n",
      " [8 7 4 1 9 4 3 2 5]\n",
      " [3 7 6 8 2 5 6 1 6]]\n",
      "Best after iterated solving\n",
      "[[4 8 9 5 3 2 7 6 1]\n",
      " [7 1 3 4 8 6 5 9 2]\n",
      " [5 6 2 9 1 7 8 3 4]\n",
      " [2 5 8 3 4 1 9 7 6]\n",
      " [6 3 1 7 5 9 2 4 8]\n",
      " [9 4 7 2 6 8 1 5 3]\n",
      " [1 2 5 6 7 3 4 8 9]\n",
      " [8 7 6 1 9 4 3 2 5]\n",
      " [3 9 4 8 2 5 6 1 7]]\n"
     ]
    },
    {
     "data": {
      "text/plain": [
       "array([[4, 8, 9, 5, 3, 2, 7, 6, 1],\n",
       "       [7, 1, 3, 4, 8, 6, 5, 9, 2],\n",
       "       [5, 6, 2, 9, 1, 7, 8, 3, 4],\n",
       "       [2, 5, 8, 3, 4, 1, 9, 7, 6],\n",
       "       [6, 3, 1, 7, 5, 9, 2, 4, 8],\n",
       "       [9, 4, 7, 2, 6, 8, 1, 5, 3],\n",
       "       [1, 2, 5, 6, 7, 3, 4, 8, 9],\n",
       "       [8, 7, 6, 1, 9, 4, 3, 2, 5],\n",
       "       [3, 9, 4, 8, 2, 5, 6, 1, 7]], dtype=int64)"
      ]
     },
     "execution_count": 212,
     "metadata": {},
     "output_type": "execute_result"
    }
   ],
   "source": [
    "state = '''\n",
    "          0 8 0 0 3 2 0 0 1\n",
    "          7 0 3 0 8 0 0 0 2\n",
    "          5 0 0 0 0 7 0 3 0\n",
    "          0 5 0 0 0 1 9 7 0\n",
    "          6 0 0 7 0 9 0 0 8\n",
    "          0 4 7 2 0 0 0 5 0\n",
    "          0 2 0 6 0 0 0 0 9\n",
    "          8 0 0 0 9 0 3 0 5\n",
    "          3 0 0 8 2 0 0 1 0\n",
    "      '''\n",
    "solve_board(state)\n"
   ]
  },
  {
   "cell_type": "code",
   "execution_count": 278,
   "metadata": {},
   "outputs": [
    {
     "name": "stdout",
     "output_type": "stream",
     "text": [
      "Complete Board Guess on first pass\n",
      "[[4 8 8 9 3 2 5 8 1]\n",
      " [7 1 3 1 8 6 5 9 2]\n",
      " [5 8 2 1 9 7 8 3 4]\n",
      " [2 5 2 3 6 1 9 7 3]\n",
      " [6 3 2 7 5 9 1 2 8]\n",
      " [9 8 7 2 6 8 1 5 3]\n",
      " [1 2 5 6 7 3 8 8 9]\n",
      " [8 7 6 1 9 4 3 2 5]\n",
      " [3 7 6 8 2 5 6 1 6]]\n",
      "Best after iterated solving\n",
      "solved puzzle:\n",
      "\n",
      "[[4 6 9 5 3 2 7 8 1]\n",
      " [7 1 3 4 8 6 5 9 2]\n",
      " [5 8 2 1 9 7 4 3 6]\n",
      " [2 5 8 3 6 1 9 7 4]\n",
      " [6 3 4 7 5 9 1 2 8]\n",
      " [1 9 7 2 4 8 6 5 3]\n",
      " [9 2 5 6 7 3 8 4 9]\n",
      " [8 7 1 9 2 4 3 6 5]\n",
      " [3 4 6 8 2 5 2 1 7]]\n"
     ]
    },
    {
     "data": {
      "text/plain": [
       "array([45, 45, 45, 45, 46, 45, 45, 45, 45], dtype=int64)"
      ]
     },
     "execution_count": 278,
     "metadata": {},
     "output_type": "execute_result"
    }
   ],
   "source": [
    "game = '''\n",
    "          0 0 0 0 3 2 0 0 1\n",
    "          7 0 3 0 8 0 0 0 2\n",
    "          5 0 0 0 0 7 0 3 0\n",
    "          0 5 0 0 0 1 9 7 0\n",
    "          6 0 0 7 0 9 0 0 8\n",
    "          0 0 7 2 0 0 0 5 0\n",
    "          0 2 0 6 0 0 0 0 9\n",
    "          8 0 0 0 0 0 3 0 5\n",
    "          3 0 0 8 2 0 0 1 0\n",
    "      '''\n",
    "\n",
    "game = solve_sudoku(game)\n",
    "\n",
    "print('solved puzzle:\\n')\n",
    "print(game)\n",
    "sum(game)"
   ]
  }
 ],
 "metadata": {
  "kernelspec": {
   "display_name": "Python 3",
   "language": "python",
   "name": "python3"
  },
  "language_info": {
   "codemirror_mode": {
    "name": "ipython",
    "version": 3
   },
   "file_extension": ".py",
   "mimetype": "text/x-python",
   "name": "python",
   "nbconvert_exporter": "python",
   "pygments_lexer": "ipython3",
   "version": "3.7.6"
  }
 },
 "nbformat": 4,
 "nbformat_minor": 2
}
